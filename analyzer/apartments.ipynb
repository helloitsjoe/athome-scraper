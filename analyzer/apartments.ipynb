{
 "cells": [
  {
   "cell_type": "code",
   "execution_count": 10,
   "metadata": {},
   "outputs": [
    {
     "data": {
      "text/html": [
       "<script>\n",
       "    // AUTORUN ALL CELLS ON NOTEBOOK-LOAD!\n",
       "    require(\n",
       "        ['base/js/namespace', 'jquery'], \n",
       "        function(jupyter, $) {\n",
       "            $(jupyter.events).on(\"kernel_ready.Kernel\", function () {\n",
       "                console.log(\"Auto-running all cells-below...\");\n",
       "                jupyter.actions.call('jupyter-notebook:run-all-cells-below');\n",
       "                jupyter.actions.call('jupyter-notebook:save-notebook');\n",
       "            });\n",
       "        }\n",
       "    );\n",
       "</script>\n"
      ],
      "text/plain": [
       "<IPython.core.display.HTML object>"
      ]
     },
     "metadata": {},
     "output_type": "display_data"
    }
   ],
   "source": [
    "%%html\n",
    "<script>\n",
    "    // AUTORUN ALL CELLS ON NOTEBOOK-LOAD!\n",
    "    require(\n",
    "        ['base/js/namespace', 'jquery'], \n",
    "        function(jupyter, $) {\n",
    "            $(jupyter.events).on(\"kernel_ready.Kernel\", function () {\n",
    "                console.log(\"Auto-running all cells-below...\");\n",
    "                jupyter.actions.call('jupyter-notebook:run-all-cells-below');\n",
    "                jupyter.actions.call('jupyter-notebook:save-notebook');\n",
    "            });\n",
    "        }\n",
    "    );\n",
    "</script>"
   ]
  },
  {
   "cell_type": "code",
   "execution_count": 2,
   "metadata": {},
   "outputs": [],
   "source": [
    "import re\n",
    "\n",
    "def _clean_agency_fee(s) -> float:\n",
    "    if type(s) == float:\n",
    "        return s\n",
    "    elif type(s) == str:\n",
    "        if s == \"\":\n",
    "            return 0\n",
    "        else:\n",
    "            return float(re.sub('[^0-9\\.]','', s))\n",
    "    else:\n",
    "        return None\n",
    "\n",
    "class Publisher(object):\n",
    "    def __init__(self, id, phone, name, athome_id):\n",
    "        self.id = id\n",
    "        self.phone = phone\n",
    "        self.name = name\n",
    "        self.athome_id = athome_id\n",
    "\n",
    "    def __init__(self, id, remote_visit, phone, name, athome_id):\n",
    "        self.id = id\n",
    "        self.remoteVisit = remote_visit\n",
    "        self.phone = phone\n",
    "        self.name = name\n",
    "        self.athome_id = athome_id\n",
    "\n",
    "\n",
    "class Appartment(object):\n",
    "    def __init__(self, data):\n",
    "        self.found = data[0]\n",
    "        self.listingId = data[1]\n",
    "        self.isSoldProperty = data[3]\n",
    "        self.region = data[4]\n",
    "        self.cityName = data[5]\n",
    "        self.lon = data[6]\n",
    "        self.lat = data[7]\n",
    "        self.price = data[8]\n",
    "        self.chargesPrice = data[9]\n",
    "        self.caution = data[10]\n",
    "        self.agencyFee = _clean_agency_fee(data[11])\n",
    "        self.propertySubType = data[12]\n",
    "        self.publisher = Publisher(data[13], data[14], data[15], data[16], data[17])\n",
    "        self.propertySurface = data[18]\n",
    "        self.buildingYeay = data[19]\n",
    "        self.floorNumber = data[20]\n",
    "        self.bathroomsCount = data[21]\n",
    "        self.bedroomsCount = data[22]\n",
    "        self.balconiesCount = data[23]\n",
    "        self.garagesCount = data[24]\n",
    "        self.carparkCunt = data[25]\n",
    "        self.hasLivingRoom = data[26]\n",
    "        self.hasKitchen = data[27]\n",
    "        self.availability = data[28]\n",
    "        self.media = data[29]\n",
    "        self.description = data[30]\n",
    "        self.link = data[31]\n",
    "        self.createdAt = data[32]\n",
    "        self.updatedAt = data[33]\n",
    "\n",
    "    def _popup_(self):\n",
    "        return f\"\"\"\n",
    "        <h4>Info</h4>\n",
    "        <b>ID: </b>{self.listingId}<br>\n",
    "        <b>Monthly Price: </b>{self.price}<br>\n",
    "        <b>Monthly Charge: </b>{self.chargesPrice}<br>\n",
    "        <b>Caution: </b>{self.caution}<br>\n",
    "        <b>Agency Fee: </b>{self.agencyFee}\n",
    "        <br>\n",
    "        <h4>Total</h4>\n",
    "        <b>Monthly: </b>{self.price + self.chargesPrice}<br>\n",
    "        <b>Initial: </b>{self.caution + self.agencyFee}\n",
    "        \"\"\""
   ]
  },
  {
   "cell_type": "code",
   "execution_count": 13,
   "metadata": {
    "pycharm": {
     "name": "#%%\n"
    }
   },
   "outputs": [],
   "source": [
    "def getAppartments(db):\n",
    "    cur = db.cursor()\n",
    "    cur.execute(\n",
    "        \"\"\"\n",
    "        SELECT * \n",
    "        FROM apartment \n",
    "        WHERE found = TRUE\n",
    "        \"\"\"\n",
    "    )\n",
    "\n",
    "    rows = cur.fetchall()\n",
    "\n",
    "    apartmens = []\n",
    "    for row in rows:\n",
    "        apartmens.append(Appartment(row))\n",
    "\n",
    "    return apartmens"
   ]
  },
  {
   "cell_type": "code",
   "execution_count": 14,
   "metadata": {
    "pycharm": {
     "name": "#%%\n"
    }
   },
   "outputs": [
    {
     "data": {
      "text/plain": [
       "[6467588, 7400265, 7483756, 7491189]"
      ]
     },
     "execution_count": 14,
     "metadata": {},
     "output_type": "execute_result"
    }
   ],
   "source": [
    "import os\n",
    "import sqlite3\n",
    "\n",
    "db = sqlite3.connect(os.environ[\"DB_PATH\"])\n",
    "apartmens = getAppartments(db)\n",
    "[a.listingId for a in apartmens]"
   ]
  },
  {
   "cell_type": "code",
   "execution_count": 15,
   "metadata": {
    "pycharm": {
     "name": "#%%\n"
    }
   },
   "outputs": [
    {
     "data": {
      "text/html": [
       "<div style=\"width:100%;\"><div style=\"position:relative;width:100%;height:0;padding-bottom:60%;\"><span style=\"color:#565656\">Make this Notebook Trusted to load map: File -> Trust Notebook</span><iframe src=\"about:blank\" style=\"position:absolute;width:100%;height:100%;left:0;top:0;border:none !important;\" data-html=%3C%21DOCTYPE%20html%3E%0A%3Chead%3E%20%20%20%20%0A%20%20%20%20%3Cmeta%20http-equiv%3D%22content-type%22%20content%3D%22text/html%3B%20charset%3DUTF-8%22%20/%3E%0A%20%20%20%20%0A%20%20%20%20%20%20%20%20%3Cscript%3E%0A%20%20%20%20%20%20%20%20%20%20%20%20L_NO_TOUCH%20%3D%20false%3B%0A%20%20%20%20%20%20%20%20%20%20%20%20L_DISABLE_3D%20%3D%20false%3B%0A%20%20%20%20%20%20%20%20%3C/script%3E%0A%20%20%20%20%0A%20%20%20%20%3Cstyle%3Ehtml%2C%20body%20%7Bwidth%3A%20100%25%3Bheight%3A%20100%25%3Bmargin%3A%200%3Bpadding%3A%200%3B%7D%3C/style%3E%0A%20%20%20%20%3Cstyle%3E%23map%20%7Bposition%3Aabsolute%3Btop%3A0%3Bbottom%3A0%3Bright%3A0%3Bleft%3A0%3B%7D%3C/style%3E%0A%20%20%20%20%3Cscript%20src%3D%22https%3A//cdn.jsdelivr.net/npm/leaflet%401.6.0/dist/leaflet.js%22%3E%3C/script%3E%0A%20%20%20%20%3Cscript%20src%3D%22https%3A//code.jquery.com/jquery-1.12.4.min.js%22%3E%3C/script%3E%0A%20%20%20%20%3Cscript%20src%3D%22https%3A//maxcdn.bootstrapcdn.com/bootstrap/3.2.0/js/bootstrap.min.js%22%3E%3C/script%3E%0A%20%20%20%20%3Cscript%20src%3D%22https%3A//cdnjs.cloudflare.com/ajax/libs/Leaflet.awesome-markers/2.0.2/leaflet.awesome-markers.js%22%3E%3C/script%3E%0A%20%20%20%20%3Clink%20rel%3D%22stylesheet%22%20href%3D%22https%3A//cdn.jsdelivr.net/npm/leaflet%401.6.0/dist/leaflet.css%22/%3E%0A%20%20%20%20%3Clink%20rel%3D%22stylesheet%22%20href%3D%22https%3A//maxcdn.bootstrapcdn.com/bootstrap/3.2.0/css/bootstrap.min.css%22/%3E%0A%20%20%20%20%3Clink%20rel%3D%22stylesheet%22%20href%3D%22https%3A//maxcdn.bootstrapcdn.com/bootstrap/3.2.0/css/bootstrap-theme.min.css%22/%3E%0A%20%20%20%20%3Clink%20rel%3D%22stylesheet%22%20href%3D%22https%3A//maxcdn.bootstrapcdn.com/font-awesome/4.6.3/css/font-awesome.min.css%22/%3E%0A%20%20%20%20%3Clink%20rel%3D%22stylesheet%22%20href%3D%22https%3A//cdnjs.cloudflare.com/ajax/libs/Leaflet.awesome-markers/2.0.2/leaflet.awesome-markers.css%22/%3E%0A%20%20%20%20%3Clink%20rel%3D%22stylesheet%22%20href%3D%22https%3A//cdn.jsdelivr.net/gh/python-visualization/folium/folium/templates/leaflet.awesome.rotate.min.css%22/%3E%0A%20%20%20%20%0A%20%20%20%20%20%20%20%20%20%20%20%20%3Cmeta%20name%3D%22viewport%22%20content%3D%22width%3Ddevice-width%2C%0A%20%20%20%20%20%20%20%20%20%20%20%20%20%20%20%20initial-scale%3D1.0%2C%20maximum-scale%3D1.0%2C%20user-scalable%3Dno%22%20/%3E%0A%20%20%20%20%20%20%20%20%20%20%20%20%3Cstyle%3E%0A%20%20%20%20%20%20%20%20%20%20%20%20%20%20%20%20%23map_d32bf98c253c4617b60576db60116d2e%20%7B%0A%20%20%20%20%20%20%20%20%20%20%20%20%20%20%20%20%20%20%20%20position%3A%20relative%3B%0A%20%20%20%20%20%20%20%20%20%20%20%20%20%20%20%20%20%20%20%20width%3A%20100.0%25%3B%0A%20%20%20%20%20%20%20%20%20%20%20%20%20%20%20%20%20%20%20%20height%3A%20100.0%25%3B%0A%20%20%20%20%20%20%20%20%20%20%20%20%20%20%20%20%20%20%20%20left%3A%200.0%25%3B%0A%20%20%20%20%20%20%20%20%20%20%20%20%20%20%20%20%20%20%20%20top%3A%200.0%25%3B%0A%20%20%20%20%20%20%20%20%20%20%20%20%20%20%20%20%7D%0A%20%20%20%20%20%20%20%20%20%20%20%20%3C/style%3E%0A%20%20%20%20%20%20%20%20%0A%3C/head%3E%0A%3Cbody%3E%20%20%20%20%0A%20%20%20%20%0A%20%20%20%20%20%20%20%20%20%20%20%20%3Cdiv%20class%3D%22folium-map%22%20id%3D%22map_d32bf98c253c4617b60576db60116d2e%22%20%3E%3C/div%3E%0A%20%20%20%20%20%20%20%20%0A%3C/body%3E%0A%3Cscript%3E%20%20%20%20%0A%20%20%20%20%0A%20%20%20%20%20%20%20%20%20%20%20%20var%20map_d32bf98c253c4617b60576db60116d2e%20%3D%20L.map%28%0A%20%20%20%20%20%20%20%20%20%20%20%20%20%20%20%20%22map_d32bf98c253c4617b60576db60116d2e%22%2C%0A%20%20%20%20%20%20%20%20%20%20%20%20%20%20%20%20%7B%0A%20%20%20%20%20%20%20%20%20%20%20%20%20%20%20%20%20%20%20%20center%3A%20%5B49.611622%2C%206.131935%5D%2C%0A%20%20%20%20%20%20%20%20%20%20%20%20%20%20%20%20%20%20%20%20crs%3A%20L.CRS.EPSG3857%2C%0A%20%20%20%20%20%20%20%20%20%20%20%20%20%20%20%20%20%20%20%20zoom%3A%2010%2C%0A%20%20%20%20%20%20%20%20%20%20%20%20%20%20%20%20%20%20%20%20zoomControl%3A%20true%2C%0A%20%20%20%20%20%20%20%20%20%20%20%20%20%20%20%20%20%20%20%20preferCanvas%3A%20false%2C%0A%20%20%20%20%20%20%20%20%20%20%20%20%20%20%20%20%7D%0A%20%20%20%20%20%20%20%20%20%20%20%20%29%3B%0A%0A%20%20%20%20%20%20%20%20%20%20%20%20%0A%0A%20%20%20%20%20%20%20%20%0A%20%20%20%20%0A%20%20%20%20%20%20%20%20%20%20%20%20var%20tile_layer_14aed14fa1ab4d3da0db1db413475250%20%3D%20L.tileLayer%28%0A%20%20%20%20%20%20%20%20%20%20%20%20%20%20%20%20%22https%3A//%7Bs%7D.tile.openstreetmap.org/%7Bz%7D/%7Bx%7D/%7By%7D.png%22%2C%0A%20%20%20%20%20%20%20%20%20%20%20%20%20%20%20%20%7B%22attribution%22%3A%20%22Data%20by%20%5Cu0026copy%3B%20%5Cu003ca%20href%3D%5C%22http%3A//openstreetmap.org%5C%22%5Cu003eOpenStreetMap%5Cu003c/a%5Cu003e%2C%20under%20%5Cu003ca%20href%3D%5C%22http%3A//www.openstreetmap.org/copyright%5C%22%5Cu003eODbL%5Cu003c/a%5Cu003e.%22%2C%20%22detectRetina%22%3A%20false%2C%20%22maxNativeZoom%22%3A%2018%2C%20%22maxZoom%22%3A%2018%2C%20%22minZoom%22%3A%200%2C%20%22noWrap%22%3A%20false%2C%20%22opacity%22%3A%201%2C%20%22subdomains%22%3A%20%22abc%22%2C%20%22tms%22%3A%20false%7D%0A%20%20%20%20%20%20%20%20%20%20%20%20%29.addTo%28map_d32bf98c253c4617b60576db60116d2e%29%3B%0A%20%20%20%20%20%20%20%20%0A%20%20%20%20%0A%20%20%20%20%20%20%20%20%20%20%20%20var%20marker_c62b14b00aa04ae781f5b0d7ec65c6a4%20%3D%20L.marker%28%0A%20%20%20%20%20%20%20%20%20%20%20%20%20%20%20%20%5B49.630033%2C%206.168936%5D%2C%0A%20%20%20%20%20%20%20%20%20%20%20%20%20%20%20%20%7B%7D%0A%20%20%20%20%20%20%20%20%20%20%20%20%29.addTo%28map_d32bf98c253c4617b60576db60116d2e%29%3B%0A%20%20%20%20%20%20%20%20%0A%20%20%20%20%0A%20%20%20%20%20%20%20%20%20%20%20%20var%20icon_583ace21fb454c6886043ddfac98f32c%20%3D%20L.AwesomeMarkers.icon%28%0A%20%20%20%20%20%20%20%20%20%20%20%20%20%20%20%20%7B%22extraClasses%22%3A%20%22fa-rotate-0%22%2C%20%22icon%22%3A%20%22info-sign%22%2C%20%22iconColor%22%3A%20%22white%22%2C%20%22markerColor%22%3A%20%22red%22%2C%20%22prefix%22%3A%20%22glyphicon%22%7D%0A%20%20%20%20%20%20%20%20%20%20%20%20%29%3B%0A%20%20%20%20%20%20%20%20%20%20%20%20marker_c62b14b00aa04ae781f5b0d7ec65c6a4.setIcon%28icon_583ace21fb454c6886043ddfac98f32c%29%3B%0A%20%20%20%20%20%20%20%20%0A%20%20%20%20%0A%20%20%20%20%20%20%20%20var%20popup_4c2d4bdaca1541b19f33ea74ff3b786e%20%3D%20L.popup%28%7B%22maxWidth%22%3A%20%22100%25%22%7D%29%3B%0A%0A%20%20%20%20%20%20%20%20%0A%20%20%20%20%20%20%20%20%20%20%20%20var%20html_8e9b3f9fbc0546969bfbef556d397c33%20%3D%20%24%28%60%3Cdiv%20id%3D%22html_8e9b3f9fbc0546969bfbef556d397c33%22%20style%3D%22width%3A%20100.0%25%3B%20height%3A%20100.0%25%3B%22%3EAmazon%3C/div%3E%60%29%5B0%5D%3B%0A%20%20%20%20%20%20%20%20%20%20%20%20popup_4c2d4bdaca1541b19f33ea74ff3b786e.setContent%28html_8e9b3f9fbc0546969bfbef556d397c33%29%3B%0A%20%20%20%20%20%20%20%20%0A%0A%20%20%20%20%20%20%20%20marker_c62b14b00aa04ae781f5b0d7ec65c6a4.bindPopup%28popup_4c2d4bdaca1541b19f33ea74ff3b786e%29%0A%20%20%20%20%20%20%20%20%3B%0A%0A%20%20%20%20%20%20%20%20%0A%20%20%20%20%0A%20%20%20%20%0A%20%20%20%20%20%20%20%20%20%20%20%20var%20circle_82eac4881d0a40a29dab86df47ff2eee%20%3D%20L.circle%28%0A%20%20%20%20%20%20%20%20%20%20%20%20%20%20%20%20%5B49.630033%2C%206.168936%5D%2C%0A%20%20%20%20%20%20%20%20%20%20%20%20%20%20%20%20%7B%22bubblingMouseEvents%22%3A%20true%2C%20%22color%22%3A%20%22green%22%2C%20%22dashArray%22%3A%20null%2C%20%22dashOffset%22%3A%20null%2C%20%22fill%22%3A%20false%2C%20%22fillColor%22%3A%20%22green%22%2C%20%22fillOpacity%22%3A%200.2%2C%20%22fillRule%22%3A%20%22evenodd%22%2C%20%22lineCap%22%3A%20%22round%22%2C%20%22lineJoin%22%3A%20%22round%22%2C%20%22opacity%22%3A%200.5%2C%20%22radius%22%3A%205000%2C%20%22stroke%22%3A%20true%2C%20%22weight%22%3A%202%7D%0A%20%20%20%20%20%20%20%20%20%20%20%20%29.addTo%28map_d32bf98c253c4617b60576db60116d2e%29%3B%0A%20%20%20%20%20%20%20%20%0A%20%20%20%20%0A%20%20%20%20%20%20%20%20%20%20%20%20var%20circle_9aec6976742f4e06a926d5ee045bafce%20%3D%20L.circle%28%0A%20%20%20%20%20%20%20%20%20%20%20%20%20%20%20%20%5B49.630033%2C%206.168936%5D%2C%0A%20%20%20%20%20%20%20%20%20%20%20%20%20%20%20%20%7B%22bubblingMouseEvents%22%3A%20true%2C%20%22color%22%3A%20%22yellow%22%2C%20%22dashArray%22%3A%20null%2C%20%22dashOffset%22%3A%20null%2C%20%22fill%22%3A%20false%2C%20%22fillColor%22%3A%20%22yellow%22%2C%20%22fillOpacity%22%3A%200.2%2C%20%22fillRule%22%3A%20%22evenodd%22%2C%20%22lineCap%22%3A%20%22round%22%2C%20%22lineJoin%22%3A%20%22round%22%2C%20%22opacity%22%3A%200.5%2C%20%22radius%22%3A%2010000%2C%20%22stroke%22%3A%20true%2C%20%22weight%22%3A%202%7D%0A%20%20%20%20%20%20%20%20%20%20%20%20%29.addTo%28map_d32bf98c253c4617b60576db60116d2e%29%3B%0A%20%20%20%20%20%20%20%20%0A%20%20%20%20%0A%20%20%20%20%20%20%20%20%20%20%20%20var%20circle_b1c736b7543740beb6febb21b4f64df3%20%3D%20L.circle%28%0A%20%20%20%20%20%20%20%20%20%20%20%20%20%20%20%20%5B49.630033%2C%206.168936%5D%2C%0A%20%20%20%20%20%20%20%20%20%20%20%20%20%20%20%20%7B%22bubblingMouseEvents%22%3A%20true%2C%20%22color%22%3A%20%22orange%22%2C%20%22dashArray%22%3A%20null%2C%20%22dashOffset%22%3A%20null%2C%20%22fill%22%3A%20false%2C%20%22fillColor%22%3A%20%22orange%22%2C%20%22fillOpacity%22%3A%200.2%2C%20%22fillRule%22%3A%20%22evenodd%22%2C%20%22lineCap%22%3A%20%22round%22%2C%20%22lineJoin%22%3A%20%22round%22%2C%20%22opacity%22%3A%200.5%2C%20%22radius%22%3A%2015000%2C%20%22stroke%22%3A%20true%2C%20%22weight%22%3A%202%7D%0A%20%20%20%20%20%20%20%20%20%20%20%20%29.addTo%28map_d32bf98c253c4617b60576db60116d2e%29%3B%0A%20%20%20%20%20%20%20%20%0A%20%20%20%20%0A%20%20%20%20%20%20%20%20%20%20%20%20var%20circle_7d1eae33aff74a64ab09074663451b9c%20%3D%20L.circle%28%0A%20%20%20%20%20%20%20%20%20%20%20%20%20%20%20%20%5B49.630033%2C%206.168936%5D%2C%0A%20%20%20%20%20%20%20%20%20%20%20%20%20%20%20%20%7B%22bubblingMouseEvents%22%3A%20true%2C%20%22color%22%3A%20%22red%22%2C%20%22dashArray%22%3A%20null%2C%20%22dashOffset%22%3A%20null%2C%20%22fill%22%3A%20false%2C%20%22fillColor%22%3A%20%22red%22%2C%20%22fillOpacity%22%3A%200.2%2C%20%22fillRule%22%3A%20%22evenodd%22%2C%20%22lineCap%22%3A%20%22round%22%2C%20%22lineJoin%22%3A%20%22round%22%2C%20%22opacity%22%3A%200.5%2C%20%22radius%22%3A%2020000%2C%20%22stroke%22%3A%20true%2C%20%22weight%22%3A%202%7D%0A%20%20%20%20%20%20%20%20%20%20%20%20%29.addTo%28map_d32bf98c253c4617b60576db60116d2e%29%3B%0A%20%20%20%20%20%20%20%20%0A%20%20%20%20%0A%20%20%20%20%20%20%20%20%20%20%20%20var%20marker_9d8399f4077e4185ac46283382c1cff8%20%3D%20L.marker%28%0A%20%20%20%20%20%20%20%20%20%20%20%20%20%20%20%20%5B49.596257%2C%206.1366508%5D%2C%0A%20%20%20%20%20%20%20%20%20%20%20%20%20%20%20%20%7B%7D%0A%20%20%20%20%20%20%20%20%20%20%20%20%29.addTo%28map_d32bf98c253c4617b60576db60116d2e%29%3B%0A%20%20%20%20%20%20%20%20%0A%20%20%20%20%0A%20%20%20%20%20%20%20%20var%20popup_f11a8b57f898477ea4cd1f59c1e45c13%20%3D%20L.popup%28%7B%22maxWidth%22%3A%20450%7D%29%3B%0A%0A%20%20%20%20%20%20%20%20%0A%20%20%20%20%20%20%20%20%20%20%20%20var%20html_33f693e9f3b0491bb6795f5f68d9a307%20%3D%20%24%28%60%3Cdiv%20id%3D%22html_33f693e9f3b0491bb6795f5f68d9a307%22%20style%3D%22width%3A%20100.0%25%3B%20height%3A%20100.0%25%3B%22%3E%20%20%20%20%20%20%20%20%20%3Ch4%3EInfo%3C/h4%3E%20%20%20%20%20%20%20%20%20%3Cb%3EID%3A%20%3C/b%3E6467588%3Cbr%3E%20%20%20%20%20%20%20%20%20%3Cb%3EMonthly%20Price%3A%20%3C/b%3E1450.0%3Cbr%3E%20%20%20%20%20%20%20%20%20%3Cb%3EMonthly%20Charge%3A%20%3C/b%3E175.0%3Cbr%3E%20%20%20%20%20%20%20%20%20%3Cb%3ECaution%3A%20%3C/b%3E2900.0%3Cbr%3E%20%20%20%20%20%20%20%20%20%3Cb%3EAgency%20Fee%3A%20%3C/b%3E1450.0%20%20%20%20%20%20%20%20%20%3Cbr%3E%20%20%20%20%20%20%20%20%20%3Ch4%3ETotal%3C/h4%3E%20%20%20%20%20%20%20%20%20%3Cb%3EMonthly%3A%20%3C/b%3E1625.0%3Cbr%3E%20%20%20%20%20%20%20%20%20%3Cb%3EInitial%3A%20%3C/b%3E4350.0%20%20%20%20%20%20%20%20%20%3C/div%3E%60%29%5B0%5D%3B%0A%20%20%20%20%20%20%20%20%20%20%20%20popup_f11a8b57f898477ea4cd1f59c1e45c13.setContent%28html_33f693e9f3b0491bb6795f5f68d9a307%29%3B%0A%20%20%20%20%20%20%20%20%0A%0A%20%20%20%20%20%20%20%20marker_9d8399f4077e4185ac46283382c1cff8.bindPopup%28popup_f11a8b57f898477ea4cd1f59c1e45c13%29%0A%20%20%20%20%20%20%20%20%3B%0A%0A%20%20%20%20%20%20%20%20%0A%20%20%20%20%0A%20%20%20%20%0A%20%20%20%20%20%20%20%20%20%20%20%20var%20marker_7b4d785ccca8423a852efbed56e4f0cf%20%3D%20L.marker%28%0A%20%20%20%20%20%20%20%20%20%20%20%20%20%20%20%20%5B49.5820811%2C%206.1211738%5D%2C%0A%20%20%20%20%20%20%20%20%20%20%20%20%20%20%20%20%7B%7D%0A%20%20%20%20%20%20%20%20%20%20%20%20%29.addTo%28map_d32bf98c253c4617b60576db60116d2e%29%3B%0A%20%20%20%20%20%20%20%20%0A%20%20%20%20%0A%20%20%20%20%20%20%20%20var%20popup_52b95c22dbe34de9b253db97e3034dd5%20%3D%20L.popup%28%7B%22maxWidth%22%3A%20450%7D%29%3B%0A%0A%20%20%20%20%20%20%20%20%0A%20%20%20%20%20%20%20%20%20%20%20%20var%20html_d89484a8886b414ab91493172e17612f%20%3D%20%24%28%60%3Cdiv%20id%3D%22html_d89484a8886b414ab91493172e17612f%22%20style%3D%22width%3A%20100.0%25%3B%20height%3A%20100.0%25%3B%22%3E%20%20%20%20%20%20%20%20%20%3Ch4%3EInfo%3C/h4%3E%20%20%20%20%20%20%20%20%20%3Cb%3EID%3A%20%3C/b%3E7400265%3Cbr%3E%20%20%20%20%20%20%20%20%20%3Cb%3EMonthly%20Price%3A%20%3C/b%3E1450.0%3Cbr%3E%20%20%20%20%20%20%20%20%20%3Cb%3EMonthly%20Charge%3A%20%3C/b%3E350.0%3Cbr%3E%20%20%20%20%20%20%20%20%20%3Cb%3ECaution%3A%20%3C/b%3E1450.0%3Cbr%3E%20%20%20%20%20%20%20%20%20%3Cb%3EAgency%20Fee%3A%20%3C/b%3E0%20%20%20%20%20%20%20%20%20%3Cbr%3E%20%20%20%20%20%20%20%20%20%3Ch4%3ETotal%3C/h4%3E%20%20%20%20%20%20%20%20%20%3Cb%3EMonthly%3A%20%3C/b%3E1800.0%3Cbr%3E%20%20%20%20%20%20%20%20%20%3Cb%3EInitial%3A%20%3C/b%3E1450.0%20%20%20%20%20%20%20%20%20%3C/div%3E%60%29%5B0%5D%3B%0A%20%20%20%20%20%20%20%20%20%20%20%20popup_52b95c22dbe34de9b253db97e3034dd5.setContent%28html_d89484a8886b414ab91493172e17612f%29%3B%0A%20%20%20%20%20%20%20%20%0A%0A%20%20%20%20%20%20%20%20marker_7b4d785ccca8423a852efbed56e4f0cf.bindPopup%28popup_52b95c22dbe34de9b253db97e3034dd5%29%0A%20%20%20%20%20%20%20%20%3B%0A%0A%20%20%20%20%20%20%20%20%0A%20%20%20%20%0A%20%20%20%20%0A%20%20%20%20%20%20%20%20%20%20%20%20var%20marker_cda127b7a99d464096873fdac609a02d%20%3D%20L.marker%28%0A%20%20%20%20%20%20%20%20%20%20%20%20%20%20%20%20%5B49.6398139%2C%206.1136813%5D%2C%0A%20%20%20%20%20%20%20%20%20%20%20%20%20%20%20%20%7B%7D%0A%20%20%20%20%20%20%20%20%20%20%20%20%29.addTo%28map_d32bf98c253c4617b60576db60116d2e%29%3B%0A%20%20%20%20%20%20%20%20%0A%20%20%20%20%0A%20%20%20%20%20%20%20%20var%20popup_736f5430336d41c18243d4a36d40cdb4%20%3D%20L.popup%28%7B%22maxWidth%22%3A%20450%7D%29%3B%0A%0A%20%20%20%20%20%20%20%20%0A%20%20%20%20%20%20%20%20%20%20%20%20var%20html_c46f80a3220d430686640177003b053d%20%3D%20%24%28%60%3Cdiv%20id%3D%22html_c46f80a3220d430686640177003b053d%22%20style%3D%22width%3A%20100.0%25%3B%20height%3A%20100.0%25%3B%22%3E%20%20%20%20%20%20%20%20%20%3Ch4%3EInfo%3C/h4%3E%20%20%20%20%20%20%20%20%20%3Cb%3EID%3A%20%3C/b%3E7483756%3Cbr%3E%20%20%20%20%20%20%20%20%20%3Cb%3EMonthly%20Price%3A%20%3C/b%3E1400.0%3Cbr%3E%20%20%20%20%20%20%20%20%20%3Cb%3EMonthly%20Charge%3A%20%3C/b%3E200.0%3Cbr%3E%20%20%20%20%20%20%20%20%20%3Cb%3ECaution%3A%20%3C/b%3E4200.0%3Cbr%3E%20%20%20%20%20%20%20%20%20%3Cb%3EAgency%20Fee%3A%20%3C/b%3E1638.0%20%20%20%20%20%20%20%20%20%3Cbr%3E%20%20%20%20%20%20%20%20%20%3Ch4%3ETotal%3C/h4%3E%20%20%20%20%20%20%20%20%20%3Cb%3EMonthly%3A%20%3C/b%3E1600.0%3Cbr%3E%20%20%20%20%20%20%20%20%20%3Cb%3EInitial%3A%20%3C/b%3E5838.0%20%20%20%20%20%20%20%20%20%3C/div%3E%60%29%5B0%5D%3B%0A%20%20%20%20%20%20%20%20%20%20%20%20popup_736f5430336d41c18243d4a36d40cdb4.setContent%28html_c46f80a3220d430686640177003b053d%29%3B%0A%20%20%20%20%20%20%20%20%0A%0A%20%20%20%20%20%20%20%20marker_cda127b7a99d464096873fdac609a02d.bindPopup%28popup_736f5430336d41c18243d4a36d40cdb4%29%0A%20%20%20%20%20%20%20%20%3B%0A%0A%20%20%20%20%20%20%20%20%0A%20%20%20%20%0A%20%20%20%20%0A%20%20%20%20%20%20%20%20%20%20%20%20var%20marker_af1c03e5b21d4c178ad18795f20ca504%20%3D%20L.marker%28%0A%20%20%20%20%20%20%20%20%20%20%20%20%20%20%20%20%5B49.5024342%2C%205.9722212%5D%2C%0A%20%20%20%20%20%20%20%20%20%20%20%20%20%20%20%20%7B%7D%0A%20%20%20%20%20%20%20%20%20%20%20%20%29.addTo%28map_d32bf98c253c4617b60576db60116d2e%29%3B%0A%20%20%20%20%20%20%20%20%0A%20%20%20%20%0A%20%20%20%20%20%20%20%20var%20popup_4a04c83b329a4b5587c3502c568d531e%20%3D%20L.popup%28%7B%22maxWidth%22%3A%20450%7D%29%3B%0A%0A%20%20%20%20%20%20%20%20%0A%20%20%20%20%20%20%20%20%20%20%20%20var%20html_d2151e47fb084deabba1471572022a8d%20%3D%20%24%28%60%3Cdiv%20id%3D%22html_d2151e47fb084deabba1471572022a8d%22%20style%3D%22width%3A%20100.0%25%3B%20height%3A%20100.0%25%3B%22%3E%20%20%20%20%20%20%20%20%20%3Ch4%3EInfo%3C/h4%3E%20%20%20%20%20%20%20%20%20%3Cb%3EID%3A%20%3C/b%3E7491189%3Cbr%3E%20%20%20%20%20%20%20%20%20%3Cb%3EMonthly%20Price%3A%20%3C/b%3E1200.0%3Cbr%3E%20%20%20%20%20%20%20%20%20%3Cb%3EMonthly%20Charge%3A%20%3C/b%3E180.0%3Cbr%3E%20%20%20%20%20%20%20%20%20%3Cb%3ECaution%3A%20%3C/b%3E2760.0%3Cbr%3E%20%20%20%20%20%20%20%20%20%3Cb%3EAgency%20Fee%3A%20%3C/b%3E1521.0%20%20%20%20%20%20%20%20%20%3Cbr%3E%20%20%20%20%20%20%20%20%20%3Ch4%3ETotal%3C/h4%3E%20%20%20%20%20%20%20%20%20%3Cb%3EMonthly%3A%20%3C/b%3E1380.0%3Cbr%3E%20%20%20%20%20%20%20%20%20%3Cb%3EInitial%3A%20%3C/b%3E4281.0%20%20%20%20%20%20%20%20%20%3C/div%3E%60%29%5B0%5D%3B%0A%20%20%20%20%20%20%20%20%20%20%20%20popup_4a04c83b329a4b5587c3502c568d531e.setContent%28html_d2151e47fb084deabba1471572022a8d%29%3B%0A%20%20%20%20%20%20%20%20%0A%0A%20%20%20%20%20%20%20%20marker_af1c03e5b21d4c178ad18795f20ca504.bindPopup%28popup_4a04c83b329a4b5587c3502c568d531e%29%0A%20%20%20%20%20%20%20%20%3B%0A%0A%20%20%20%20%20%20%20%20%0A%20%20%20%20%0A%3C/script%3E onload=\"this.contentDocument.open();this.contentDocument.write(    decodeURIComponent(this.getAttribute('data-html')));this.contentDocument.close();\" allowfullscreen webkitallowfullscreen mozallowfullscreen></iframe></div></div>"
      ],
      "text/plain": [
       "<folium.folium.Map at 0x115b75ac0>"
      ]
     },
     "execution_count": 15,
     "metadata": {},
     "output_type": "execute_result"
    }
   ],
   "source": [
    "import folium\n",
    "from folium.plugins import MarkerCluster\n",
    "\n",
    "lux_coords = [49.611622, 6.131935]\n",
    "map = folium.Map(location = lux_coords, zoom_start = 10)\n",
    "\n",
    "amz_coords = [49.630033, 6.168936]\n",
    "folium.Marker(location=amz_coords, popup=\"Amazon\", icon=folium.Icon(color='red', icon='info-sign')).add_to(map)\n",
    "\n",
    "folium.Circle(location=amz_coords, radius=5000, color='green', opacity=0.5, weight=2).add_to(map)\n",
    "folium.Circle(location=amz_coords, radius=10000, color='yellow', opacity=0.5, weight=2).add_to(map)\n",
    "folium.Circle(location=amz_coords, radius=15000, color='orange', opacity=0.5, weight=2).add_to(map)\n",
    "folium.Circle(location=amz_coords, radius=20000, color='red', opacity=0.5, weight=2).add_to(map)\n",
    "\n",
    "for a in apartmens:\n",
    "    popup = folium.Popup(a._popup_(), max_width=450)\n",
    "    folium.Marker(location=[a.lat, a.lon], popup=popup).add_to(map)\n",
    "\n",
    "map"
   ]
  },
  {
   "cell_type": "code",
   "execution_count": null,
   "metadata": {},
   "outputs": [],
   "source": []
  }
 ],
 "metadata": {
  "kernelspec": {
   "display_name": "Python 3 (ipykernel)",
   "language": "python",
   "name": "python3"
  },
  "language_info": {
   "codemirror_mode": {
    "name": "ipython",
    "version": 3
   },
   "file_extension": ".py",
   "mimetype": "text/x-python",
   "name": "python",
   "nbconvert_exporter": "python",
   "pygments_lexer": "ipython3",
   "version": "3.9.12"
  }
 },
 "nbformat": 4,
 "nbformat_minor": 1
}
